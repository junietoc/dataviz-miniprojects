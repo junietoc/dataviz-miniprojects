{
  "nbformat": 4,
  "nbformat_minor": 0,
  "metadata": {
    "colab": {
      "provenance": [],
      "toc_visible": true
    },
    "kernelspec": {
      "name": "python3",
      "display_name": "Python 3"
    },
    "language_info": {
      "name": "python"
    }
  },
  "cells": [
    {
      "cell_type": "markdown",
      "source": [
        "# El mejor episodio de [inserta nombre de serie aquí]\n",
        "Juliana Nieto Cárdenas \\\\\n",
        "### De qué trata este Notebook\n",
        "Esta herramienta muestra las calificaciones de IMDB de una serie en un mapa de calor.\n",
        "\n",
        "\n"
      ],
      "metadata": {
        "id": "dvzH2SKFWHT8"
      }
    },
    {
      "cell_type": "markdown",
      "source": [
        "## Cómo está hecho\n",
        "Los datos de calificaciones se obtienen mediante el [conjunto de datos abiertos ](https://www.imdb.com/interfaces/)que brinda [IMDB](https://www.imdb.com/), los cuales son actualizados diariamente. \n",
        "La librería de `cinemagoer` de Python, obtiene estos datos de una manera eficiente con su [API](https://cinemagoer.readthedocs.io/en/latest/)."
      ],
      "metadata": {
        "id": "KGS43UQuW5-H"
      }
    },
    {
      "cell_type": "markdown",
      "source": [
        "- Instalación de `cinemagoer`"
      ],
      "metadata": {
        "id": "PgeG2PrhXv8A"
      }
    },
    {
      "cell_type": "code",
      "source": [
        "! pip install cinemagoer"
      ],
      "metadata": {
        "colab": {
          "base_uri": "https://localhost:8080/"
        },
        "id": "ue8XA3saxnmm",
        "outputId": "f3f98b2e-f9ff-4dfa-85c5-c0d8c53799b7"
      },
      "execution_count": 1,
      "outputs": [
        {
          "output_type": "stream",
          "name": "stdout",
          "text": [
            "Looking in indexes: https://pypi.org/simple, https://us-python.pkg.dev/colab-wheels/public/simple/\n",
            "Collecting cinemagoer\n",
            "  Downloading cinemagoer-2022.12.27-py3-none-any.whl (297 kB)\n",
            "\u001b[2K     \u001b[90m━━━━━━━━━━━━━━━━━━━━━━━━━━━━━━━━━━━━━━━\u001b[0m \u001b[32m297.2/297.2 KB\u001b[0m \u001b[31m7.9 MB/s\u001b[0m eta \u001b[36m0:00:00\u001b[0m\n",
            "\u001b[?25hRequirement already satisfied: SQLAlchemy in /usr/local/lib/python3.8/dist-packages (from cinemagoer) (1.4.46)\n",
            "Requirement already satisfied: lxml in /usr/local/lib/python3.8/dist-packages (from cinemagoer) (4.9.2)\n",
            "Requirement already satisfied: greenlet!=0.4.17 in /usr/local/lib/python3.8/dist-packages (from SQLAlchemy->cinemagoer) (2.0.1)\n",
            "Installing collected packages: cinemagoer\n",
            "Successfully installed cinemagoer-2022.12.27\n"
          ]
        }
      ]
    },
    {
      "cell_type": "code",
      "source": [
        "import imdb\n",
        "from pprint import pprint\n",
        "import pandas as pd\n",
        "import numpy as np\n",
        "import seaborn as sns\n",
        "import matplotlib.pyplot as plt\n"
      ],
      "metadata": {
        "id": "TVbunPcTw0zt"
      },
      "execution_count": 2,
      "outputs": []
    },
    {
      "cell_type": "markdown",
      "source": [
        "- La clase de `myseries` almacena los datos de título de serie y sus episodios, los cuales se expresan en forma de matriz. También, cuenta con los métodos para graficar el mapa de calor\n",
        "- La clase de `myepisode` almacena los datos de título de episodio, número de temporada, número de episodio y calificación de IMDB."
      ],
      "metadata": {
        "id": "iaaeuM6HX0M1"
      }
    },
    {
      "cell_type": "code",
      "source": [
        "class myseries:\n",
        "    def __init__(self, title, episodes):\n",
        "        self.title = title\n",
        "        self.episodes = episodes\n",
        "\n",
        "    def numberfy(self): \n",
        "      matrix = []     \n",
        "      maxLen = 0\n",
        "      for season in self.episodes:\n",
        "        thisSeason = []\n",
        "        for episode in season:\n",
        "          thisSeason.append(episode.rating)\n",
        "        if(len(thisSeason) != 0):\n",
        "          matrix.append(thisSeason)\n",
        "        if(len(thisSeason) > maxLen):\n",
        "          maxLen = len(thisSeason)\n",
        "      \n",
        "      return self.square(matrix,maxLen)\n",
        "\n",
        "    def square(self, matrix, maxLen):\n",
        "      for i in range(len(matrix)):    \n",
        "        zfilling = maxLen - len(matrix[i])\n",
        "        matrix[i] = np.pad(matrix[i],(0,zfilling),'constant', constant_values=(0,0))\n",
        "      return np.array(matrix)\n",
        "    \n",
        "\n",
        "    def plot_series_heatmap(self):\n",
        "      ratings_matrix = self.numberfy()\n",
        "      sns.set()\n",
        "      #labels \n",
        "      # x labels\n",
        "      xlabels = range(1,len(ratings_matrix[0])+1)\n",
        "      # y labels\n",
        "      ylabels = [\"s\"+str(i+1) for i in range(len(ratings_matrix))]\n",
        "      ax = sns.heatmap(ratings_matrix, vmin=0, vmax=10,cmap=\"BuPu\",xticklabels=xlabels,yticklabels=ylabels)\n",
        "      plt.show()\n",
        "\n",
        "    def __best_episodes_each_season(self):\n",
        "      best_episodes = []\n",
        "      for season in self.episodes:\n",
        "        best_episode = None\n",
        "        best_rating = 0\n",
        "        for episode in season:\n",
        "          \n",
        "          if episode.rating > best_rating:\n",
        "            best_episode = episode\n",
        "            best_rating = episode.rating\n",
        "\n",
        "        best_episodes.append(best_episode)\n",
        "      \n",
        "      return best_episodes\n",
        "\n",
        "    def best_each_season(self):\n",
        "      best_episodes = myseries.__best_episodes_each_season(self)\n",
        "      print(f\"Mejores episodios de {self.title}\")\n",
        "      for i in range(len(best_episodes)):\n",
        "        current_episode = best_episodes[i]\n",
        "        print(f\"Temporada {i+1}: {current_episode.__str__()}\")\n",
        "\n",
        "    def best_episode(self):\n",
        "      best_episodes = myseries.__best_episodes_each_season(self)\n",
        "      max_rating = 0\n",
        "      the_best_episode = None\n",
        "      for episode in best_episodes:\n",
        "        if episode.rating > max_rating:\n",
        "          max_rating = episode.rating\n",
        "          the_best_episode = episode\n",
        "      print(f\"El mejor episodio de {self.title} es: {the_best_episode}\")\n",
        "      \n",
        "          \n",
        "      \n",
        "class myepisode:\n",
        "    def __init__(self, title, season, number,rating):\n",
        "        self.title = title\n",
        "        self.season = season\n",
        "        self.number = number\n",
        "        self.rating = rating\n",
        "\n",
        "    def __str__(self):\n",
        "        return f\"Title: {self.title} \\t ID: {self.season} - {self.number} \\t Rating: {self.rating} \\t \""
      ],
      "metadata": {
        "id": "l3A5liFRw3X7"
      },
      "execution_count": 15,
      "outputs": []
    },
    {
      "cell_type": "code",
      "source": [
        "def get_data():\n",
        "  ia = imdb.Cinemagoer()\n",
        "\n",
        "  \n",
        "  series_title = input(\"El mejor episodio de: \")\n",
        "\n",
        "  series_search = ia.search_movie(series_title)\n",
        "  seriesId = series_search[0].movieID\n",
        "\n",
        "  series = ia.get_movie(seriesId)\n",
        "  ia.update(series, 'episodes')\n",
        "\n",
        "  episodes = []\n",
        "\n",
        "  for season in series['episodes']:\n",
        "      currentSeason = series['episodes'][season]\n",
        "      thisSeason = []\n",
        "      for episode in currentSeason:\n",
        "          try:\n",
        "              episodeData = currentSeason[episode].data\n",
        "              episodeTitle = episodeData['title']\n",
        "              episodeSeason = episodeData['season']\n",
        "              episodeNumber = episodeData['episode']\n",
        "              episodeRating = episodeData['rating']\n",
        "              newEpisode = myepisode(episodeTitle,episodeSeason,episodeNumber,episodeRating)\n",
        "              thisSeason.append(newEpisode)\n",
        "          except:\n",
        "              pass\n",
        "      if len(thisSeason) > 0:\n",
        "        episodes.append(thisSeason)\n",
        "  return series_title, episodes"
      ],
      "metadata": {
        "id": "fCYBVStOxsje"
      },
      "execution_count": 16,
      "outputs": []
    },
    {
      "cell_type": "markdown",
      "source": [
        "## Cómo funciona\n",
        "- La siguiente celda recibe una cadena con el nombre de la serie y recolecta los datos con `cinemagoer` (esto puede tomar algunos segundos)\n",
        "\n",
        "**PRECAUCIÓN**: Algunos títulos de series presentan problemas en su recolección debido a la naturaleza del conjunto de datos de IMDB\n",
        "*Títulos recomendados para su correcto funcionamiento:*\n",
        "- Stranger Things\n",
        "- The Office\n",
        "- Breaking Bad\n"
      ],
      "metadata": {
        "id": "MCRvQGR0WrI9"
      }
    },
    {
      "cell_type": "code",
      "source": [
        "data = get_data()\n",
        "series = myseries(data[0],data[1])"
      ],
      "metadata": {
        "colab": {
          "base_uri": "https://localhost:8080/"
        },
        "id": "m-SrRmu8l4OL",
        "outputId": "acec0fa0-367b-4e0f-8a05-973e82f34853"
      },
      "execution_count": 20,
      "outputs": [
        {
          "name": "stdout",
          "output_type": "stream",
          "text": [
            "El mejor episodio de: The Office\n"
          ]
        }
      ]
    },
    {
      "cell_type": "markdown",
      "source": [
        "- Se muestran los mejores de cada temporada de la serie con su respectiva calificación"
      ],
      "metadata": {
        "id": "epWY5wrjZCmd"
      }
    },
    {
      "cell_type": "code",
      "source": [
        "series.best_each_season()"
      ],
      "metadata": {
        "id": "pO-9fNYWiNLC",
        "colab": {
          "base_uri": "https://localhost:8080/"
        },
        "outputId": "bba4c84e-6c3a-493c-a46e-ad6a4c697241"
      },
      "execution_count": 21,
      "outputs": [
        {
          "output_type": "stream",
          "name": "stdout",
          "text": [
            "Mejores episodios de The Office\n",
            "Temporada 1: Title: Basketball \t ID: 1 - 5 \t Rating: 8.201234567891 \t \n",
            "Temporada 2: Title: Casino Night \t ID: 2 - 22 \t Rating: 9.301234567891 \t \n",
            "Temporada 3: Title: The Job \t ID: 3 - 23 \t Rating: 9.201234567891 \t \n",
            "Temporada 4: Title: Dinner Party \t ID: 4 - 9 \t Rating: 9.401234567891 \t \n",
            "Temporada 5: Title: Stress Relief \t ID: 5 - 13 \t Rating: 9.701234567891 \t \n",
            "Temporada 6: Title: Niagara: Part 2 \t ID: 6 - 5 \t Rating: 9.401234567891 \t \n",
            "Temporada 7: Title: Goodbye, Michael \t ID: 7 - 21 \t Rating: 9.801234567891 \t \n",
            "Temporada 8: Title: The Incentive \t ID: 8 - 2 \t Rating: 8.001234567891 \t \n",
            "Temporada 9: Title: Finale \t ID: 9 - 23 \t Rating: 9.801234567891 \t \n"
          ]
        }
      ]
    },
    {
      "cell_type": "markdown",
      "source": [
        "- Finalmente, se muestra el **mapa de calor**"
      ],
      "metadata": {
        "id": "GXo6_eMGZJXR"
      }
    },
    {
      "cell_type": "code",
      "source": [
        "series.plot_series_heatmap()"
      ],
      "metadata": {
        "id": "Rtyo8KIoxxsU",
        "colab": {
          "base_uri": "https://localhost:8080/",
          "height": 276
        },
        "outputId": "c85ad3b3-74f4-4ba8-ca8e-c07cf73f26a9"
      },
      "execution_count": 22,
      "outputs": [
        {
          "output_type": "display_data",
          "data": {
            "text/plain": [
              "<Figure size 432x288 with 2 Axes>"
            ],
            "image/png": "[encoded data removed]"
          },
          "metadata": {}
        }
      ]
    },
    {
      "cell_type": "markdown",
      "source": [
        "- Se muestra el mejor episodio de toda la serie"
      ],
      "metadata": {
        "id": "DvgyUQVcZPw2"
      }
    },
    {
      "cell_type": "code",
      "source": [
        "mejor = series.best_episode()\n",
        "\n"
      ],
      "metadata": {
        "colab": {
          "base_uri": "https://localhost:8080/"
        },
        "id": "iCBxpAVMx7kp",
        "outputId": "d0cb478c-2302-48d1-bc48-d7cee1faec2e"
      },
      "execution_count": 23,
      "outputs": [
        {
          "output_type": "stream",
          "name": "stdout",
          "text": [
            "El mejor episodio de The Office es: Title: Goodbye, Michael \t ID: 7 - 21 \t Rating: 9.801234567891 \t \n"
          ]
        }
      ]
    },
    {
      "cell_type": "code",
      "source": [],
      "metadata": {
        "id": "-wHE2wevyBgj"
      },
      "execution_count": null,
      "outputs": []
    }
  ]
}